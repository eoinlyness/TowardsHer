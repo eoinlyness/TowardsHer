{
 "metadata": {
  "language_info": {
   "codemirror_mode": {
    "name": "ipython",
    "version": 3
   },
   "file_extension": ".py",
   "mimetype": "text/x-python",
   "name": "python",
   "nbconvert_exporter": "python",
   "pygments_lexer": "ipython3",
   "version": "3.7.8"
  },
  "orig_nbformat": 2,
  "kernelspec": {
   "name": "python378jvsc74a57bd057baa5815c940fdaff4d14510622de9616cae602444507ba5d0b6727c008cbd6",
   "display_name": "Python 3.7.8 64-bit"
  },
  "metadata": {
   "interpreter": {
    "hash": "57baa5815c940fdaff4d14510622de9616cae602444507ba5d0b6727c008cbd6"
   }
  }
 },
 "nbformat": 4,
 "nbformat_minor": 2,
 "cells": [
  {
   "cell_type": "code",
   "execution_count": 117,
   "metadata": {},
   "outputs": [],
   "source": [
    "#\n",
    "# Author: Eoin Lyness\n",
    "# Train collaborative filtering model (non-privacy-preserving)\n",
    "#\n",
    "\n",
    "import pandas as pd\n",
    "import numpy as np\n",
    "import sklearn\n",
    "from fastai.tabular.all import *\n",
    "from fastai.collab import *"
   ]
  },
  {
   "cell_type": "code",
   "execution_count": 118,
   "metadata": {},
   "outputs": [],
   "source": [
    "seed = 4006\n",
    "fname = 'output/cluster_out.csv'\n",
    "\n",
    "#Load dataset and shuffle the rows\n",
    "data = pd.read_csv(fname, index_col=0)\n",
    "data = sklearn.utils.shuffle(data)"
   ]
  },
  {
   "cell_type": "code",
   "execution_count": 119,
   "metadata": {},
   "outputs": [],
   "source": [
    "#Clear output file if it already exists\n",
    "fname_out = 'output/collab_out.csv'\n",
    "f = open(fname_out, \"w\")\n",
    "f.truncate()\n",
    "f.close()"
   ]
  },
  {
   "cell_type": "code",
   "execution_count": null,
   "metadata": {},
   "outputs": [],
   "source": [
    "#Create data loader from dataset\n",
    "dls = CollabDataLoaders.from_df(data, user_name='user', item_name='cluster', rating_name='mood', bs=64, valid_pct=0.2, seed=seed)\n",
    "#Create the model\n",
    "#Output training and validation loss to file\n",
    "learn = collab_learner(dls, y_range=(-1.5,1.5), wd=0.1, cbs=CSVLogger(fname=fname_out, append=True))\n",
    "#Run the training\n",
    "learn.fit_one_cycle(50)"
   ]
  },
  {
   "cell_type": "code",
   "execution_count": null,
   "metadata": {},
   "outputs": [],
   "source": []
  },
  {
   "cell_type": "code",
   "execution_count": null,
   "metadata": {},
   "outputs": [],
   "source": [
    "#NOTE: Cannot save model with CSV logging enabled \n",
    "#Run this cell to retrain model without logging and export model to file\n",
    "\n",
    "learn = collab_learner(dls, y_range=(-1.5,1.5), wd=0.1)\n",
    "learn.fit_one_cycle(50)\n",
    "learn.export(fname='models/model.model')"
   ]
  }
 ]
}